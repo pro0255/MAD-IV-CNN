{
 "cells": [
  {
   "cell_type": "markdown",
   "metadata": {},
   "source": [
    "# CNN Project Information"
   ]
  },
  {
   "cell_type": "markdown",
   "metadata": {},
   "source": [
    "## Informace\n",
    "\n",
    "You can get 10 to 20 points\n",
    "\n",
    "Every project must include brief description of the dataset\n",
    "\n",
    "Number of images, number of classes and class balance\n",
    "Examples of the images\n",
    "What metrics scores you have decided to use\n",
    "\n",
    "e.g. Accuracy, Precision, Recall, F1-score etc.\n",
    "Also state which one of the scores is the most important from your point of view given the class balance, task, ...\n",
    "Try minimally 2 different models\n",
    "\n",
    "The first model should be built from scratch, i.e. create your own architecture and train the model\n",
    "If you perform various experiments or parameters tuning be sure to include everyting in the Notebook step by step with some brief comments about the experiments (e.g. effect of BatchNorm/layer sizes/optimizer on accuracy/train time/...)\n",
    "The second model will employ transfer learning techniques\n",
    "You can try any model you wish, e.g. ResNet, Inception, MobileNet, etc.\n",
    "Take a look at this list and try at least one of them\n",
    "Fine tune the model for your dataset and compare it with the first one\n",
    "Mandatory part of every project is a summary at the end in which you summarize the most interesting insight obtained.\n",
    "\n",
    "Result is a Jupyter Notebook with descriptions included or a PDF report + source codes.\n",
    "\n",
    "Deadline is 3. 4. 2022"
   ]
  },
  {
   "cell_type": "markdown",
   "metadata": {},
   "source": [
    "## Příklady datových sad\n",
    "\n",
    "- https://www.kaggle.com/joosthazelzet/lego-brick-images\n",
    "- https://www.kaggle.com/paultimothymooney/chest-xray-pneumonia\n",
    "- https://www.kaggle.com/meowmeowmeowmeowmeow/gtsrb-german-traffic-sign\n",
    "- https://www.kaggle.com/sanikamal/horses-or-humans-dataset\n",
    "- https://www.kaggle.com/ihelon/lego-minifigures-classification"
   ]
  },
  {
   "cell_type": "markdown",
   "metadata": {},
   "source": [
    "# Vypracování projektu"
   ]
  },
  {
   "cell_type": "markdown",
   "metadata": {},
   "source": [
    "## Vybraná datová sada\n",
    "\n",
    "- https://www.kaggle.com/paultimothymooney/chest-xray-pneumonia"
   ]
  },
  {
   "cell_type": "markdown",
   "metadata": {},
   "source": [
    "## Informace ohledně datové sady"
   ]
  },
  {
   "cell_type": "markdown",
   "metadata": {},
   "source": [
    "## Jakou metriku použijeme?"
   ]
  },
  {
   "cell_type": "markdown",
   "metadata": {},
   "source": [
    "## Klasifikace"
   ]
  },
  {
   "cell_type": "markdown",
   "metadata": {},
   "source": [
    "### Model 1"
   ]
  },
  {
   "cell_type": "markdown",
   "metadata": {},
   "source": [
    "### Model 2"
   ]
  },
  {
   "cell_type": "markdown",
   "metadata": {},
   "source": [
    "## Zhodnocení"
   ]
  }
 ],
 "metadata": {
  "language_info": {
   "name": "python"
  },
  "orig_nbformat": 4
 },
 "nbformat": 4,
 "nbformat_minor": 2
}
